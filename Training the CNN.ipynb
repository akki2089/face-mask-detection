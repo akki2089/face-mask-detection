{
 "cells": [
  {
   "cell_type": "code",
   "execution_count": 1,
   "metadata": {},
   "outputs": [
    {
     "data": {
      "text/plain": [
       "'C:\\\\Users\\\\ikka\\\\Desktop\\\\New folder (4)'"
      ]
     },
     "execution_count": 1,
     "metadata": {},
     "output_type": "execute_result"
    }
   ],
   "source": [
    "import os\n",
    "os.getcwd()\n"
   ]
  },
  {
   "cell_type": "code",
   "execution_count": 3,
   "metadata": {},
   "outputs": [
    {
     "data": {
      "text/plain": [
       "'C:\\\\Users\\\\ikka\\\\Desktop\\\\New folder (4)'"
      ]
     },
     "execution_count": 3,
     "metadata": {},
     "output_type": "execute_result"
    }
   ],
   "source": [
    "os.getcwd()"
   ]
  },
  {
   "cell_type": "code",
   "execution_count": 4,
   "metadata": {},
   "outputs": [],
   "source": [
    "import numpy as np\n",
    "\n",
    "data = np.load('data.npy')\n",
    "target = np.load('target.npy')"
   ]
  },
  {
   "cell_type": "code",
   "execution_count": 5,
   "metadata": {},
   "outputs": [],
   "source": [
    "from keras.models import Sequential\n",
    "from keras.layers import Dense,Activation,Flatten,Dropout\n",
    "from keras.layers import Conv2D,MaxPooling2D\n",
    "from keras.callbacks import ModelCheckpoint"
   ]
  },
  {
   "cell_type": "code",
   "execution_count": 6,
   "metadata": {},
   "outputs": [],
   "source": [
    "model=Sequential()\n",
    "\n",
    "model.add(Conv2D(300,(5,5),input_shape=data.shape[1:]))\n",
    "model.add(Activation('relu'))\n",
    "model.add(MaxPooling2D(pool_size=(3,3)))\n",
    "#The first CNN layer followed by Relu and MaxPooling layers\n",
    "\n",
    "model.add(Conv2D(200,(5,5)))\n",
    "model.add(Activation('relu'))\n",
    "model.add(MaxPooling2D(pool_size=(3,3)))\n",
    "#The second convolution layer followed by Relu and MaxPooling layers\n",
    "\n",
    "model.add(Flatten())\n",
    "model.add(Dropout(0.5))\n",
    "#Flatten layer to stack the output convolutions from second convolution layer\n",
    "model.add(Dense(70,activation='relu'))\n",
    "#Dense layer of 64 neurons\n",
    "model.add(Dense(2,activation='softmax'))\n",
    "#The Final layer with two outputs for two categories\n",
    "\n",
    "model.compile(loss='categorical_crossentropy',optimizer='adam',metrics=['accuracy'])"
   ]
  },
  {
   "cell_type": "code",
   "execution_count": 7,
   "metadata": {},
   "outputs": [],
   "source": [
    "from sklearn.model_selection import train_test_split\n",
    "\n",
    "train_data,test_data,train_target,test_target=train_test_split(data,target,test_size=0.1)\n"
   ]
  },
  {
   "cell_type": "code",
   "execution_count": 8,
   "metadata": {},
   "outputs": [
    {
     "name": "stdout",
     "output_type": "stream",
     "text": [
      "Epoch 1/30\n",
      "86/86 [==============================] - ETA: 0s - loss: 0.6426 - accuracy: 0.6252WARNING:tensorflow:From C:\\Users\\ikka\\AppData\\Roaming\\Python\\Python38\\site-packages\\tensorflow\\python\\ops\\resource_variable_ops.py:1813: calling BaseResourceVariable.__init__ (from tensorflow.python.ops.resource_variable_ops) with constraint is deprecated and will be removed in a future version.\n",
      "Instructions for updating:\n",
      "If using Keras pass *_constraint arguments to layers.\n",
      "INFO:tensorflow:Assets written to: model-001.model\\assets\n",
      "86/86 [==============================] - 238s 3s/step - loss: 0.6426 - accuracy: 0.6252 - val_loss: 0.5279 - val_accuracy: 0.7464\n",
      "Epoch 2/30\n",
      "86/86 [==============================] - ETA: 0s - loss: 0.4979 - accuracy: 0.7415INFO:tensorflow:Assets written to: model-002.model\\assets\n",
      "86/86 [==============================] - 243s 3s/step - loss: 0.4979 - accuracy: 0.7415 - val_loss: 0.4266 - val_accuracy: 0.8426\n",
      "Epoch 3/30\n",
      "86/86 [==============================] - ETA: 0s - loss: 0.3967 - accuracy: 0.8192INFO:tensorflow:Assets written to: model-003.model\\assets\n",
      "86/86 [==============================] - 226s 3s/step - loss: 0.3967 - accuracy: 0.8192 - val_loss: 0.3347 - val_accuracy: 0.8469\n",
      "Epoch 4/30\n",
      "86/86 [==============================] - ETA: 0s - loss: 0.3212 - accuracy: 0.8545INFO:tensorflow:Assets written to: model-004.model\\assets\n",
      "86/86 [==============================] - 225s 3s/step - loss: 0.3212 - accuracy: 0.8545 - val_loss: 0.2844 - val_accuracy: 0.8732\n",
      "Epoch 5/30\n",
      "86/86 [==============================] - ETA: 0s - loss: 0.2840 - accuracy: 0.8775INFO:tensorflow:Assets written to: model-005.model\\assets\n",
      "86/86 [==============================] - 225s 3s/step - loss: 0.2840 - accuracy: 0.8775 - val_loss: 0.2514 - val_accuracy: 0.9067\n",
      "Epoch 6/30\n",
      "86/86 [==============================] - ETA: 0s - loss: 0.2554 - accuracy: 0.8884INFO:tensorflow:Assets written to: model-006.model\\assets\n",
      "86/86 [==============================] - 227s 3s/step - loss: 0.2554 - accuracy: 0.8884 - val_loss: 0.2306 - val_accuracy: 0.8994\n",
      "Epoch 7/30\n",
      "86/86 [==============================] - ETA: 0s - loss: 0.2053 - accuracy: 0.9213INFO:tensorflow:Assets written to: model-007.model\\assets\n",
      "86/86 [==============================] - 228s 3s/step - loss: 0.2053 - accuracy: 0.9213 - val_loss: 0.2254 - val_accuracy: 0.9023\n",
      "Epoch 8/30\n",
      "86/86 [==============================] - ETA: 0s - loss: 0.1834 - accuracy: 0.9231INFO:tensorflow:Assets written to: model-008.model\\assets\n",
      "86/86 [==============================] - 226s 3s/step - loss: 0.1834 - accuracy: 0.9231 - val_loss: 0.2057 - val_accuracy: 0.9082\n",
      "Epoch 9/30\n",
      "86/86 [==============================] - ETA: 0s - loss: 0.1618 - accuracy: 0.9358INFO:tensorflow:Assets written to: model-009.model\\assets\n",
      "86/86 [==============================] - 226s 3s/step - loss: 0.1618 - accuracy: 0.9358 - val_loss: 0.1982 - val_accuracy: 0.9271\n",
      "Epoch 10/30\n",
      "86/86 [==============================] - 270s 3s/step - loss: 0.1494 - accuracy: 0.9362 - val_loss: 0.2327 - val_accuracy: 0.9140\n",
      "Epoch 11/30\n",
      "86/86 [==============================] - ETA: 0s - loss: 0.1300 - accuracy: 0.9501INFO:tensorflow:Assets written to: model-011.model\\assets\n",
      "86/86 [==============================] - 289s 3s/step - loss: 0.1300 - accuracy: 0.9501 - val_loss: 0.1855 - val_accuracy: 0.9329\n",
      "Epoch 12/30\n",
      "86/86 [==============================] - 329s 4s/step - loss: 0.1110 - accuracy: 0.9595 - val_loss: 0.2168 - val_accuracy: 0.9169\n",
      "Epoch 13/30\n",
      "86/86 [==============================] - ETA: 0s - loss: 0.0889 - accuracy: 0.9668INFO:tensorflow:Assets written to: model-013.model\\assets\n",
      "86/86 [==============================] - 346s 4s/step - loss: 0.0889 - accuracy: 0.9668 - val_loss: 0.1811 - val_accuracy: 0.9184\n",
      "Epoch 14/30\n",
      "86/86 [==============================] - 345s 4s/step - loss: 0.0817 - accuracy: 0.9665 - val_loss: 0.1845 - val_accuracy: 0.9388\n",
      "Epoch 15/30\n",
      "86/86 [==============================] - 379s 4s/step - loss: 0.0722 - accuracy: 0.9723 - val_loss: 0.1931 - val_accuracy: 0.9315\n",
      "Epoch 16/30\n",
      "86/86 [==============================] - ETA: 0s - loss: 0.0633 - accuracy: 0.9759INFO:tensorflow:Assets written to: model-016.model\\assets\n",
      "86/86 [==============================] - 364s 4s/step - loss: 0.0633 - accuracy: 0.9759 - val_loss: 0.1749 - val_accuracy: 0.9329\n",
      "Epoch 17/30\n",
      "86/86 [==============================] - 354s 4s/step - loss: 0.0654 - accuracy: 0.9727 - val_loss: 0.1973 - val_accuracy: 0.9359\n",
      "Epoch 18/30\n",
      "86/86 [==============================] - 358s 4s/step - loss: 0.0580 - accuracy: 0.9770 - val_loss: 0.1919 - val_accuracy: 0.9257\n",
      "Epoch 19/30\n",
      "86/86 [==============================] - 367s 4s/step - loss: 0.0475 - accuracy: 0.9840 - val_loss: 0.2082 - val_accuracy: 0.9446\n",
      "Epoch 20/30\n",
      "86/86 [==============================] - 361s 4s/step - loss: 0.0533 - accuracy: 0.9818 - val_loss: 0.2180 - val_accuracy: 0.9300\n",
      "Epoch 21/30\n",
      "86/86 [==============================] - 364s 4s/step - loss: 0.0444 - accuracy: 0.9829 - val_loss: 0.2015 - val_accuracy: 0.9388\n",
      "Epoch 22/30\n",
      "86/86 [==============================] - 368s 4s/step - loss: 0.0524 - accuracy: 0.9810 - val_loss: 0.2459 - val_accuracy: 0.9344\n",
      "Epoch 23/30\n",
      "86/86 [==============================] - 311s 4s/step - loss: 0.0276 - accuracy: 0.9913 - val_loss: 0.2070 - val_accuracy: 0.9417\n",
      "Epoch 24/30\n",
      "86/86 [==============================] - 288s 3s/step - loss: 0.0319 - accuracy: 0.9869 - val_loss: 0.1901 - val_accuracy: 0.9402\n",
      "Epoch 25/30\n",
      "86/86 [==============================] - 296s 3s/step - loss: 0.0237 - accuracy: 0.9909 - val_loss: 0.2337 - val_accuracy: 0.9359\n",
      "Epoch 26/30\n",
      "86/86 [==============================] - 283s 3s/step - loss: 0.0219 - accuracy: 0.9934 - val_loss: 0.2595 - val_accuracy: 0.9359\n",
      "Epoch 27/30\n",
      "86/86 [==============================] - 285s 3s/step - loss: 0.0347 - accuracy: 0.9861 - val_loss: 0.2049 - val_accuracy: 0.9417\n",
      "Epoch 28/30\n",
      "86/86 [==============================] - ETA: 0s - loss: 0.0466 - accuracy: 0.9832INFO:tensorflow:Assets written to: model-028.model\\assets\n",
      "86/86 [==============================] - 286s 3s/step - loss: 0.0466 - accuracy: 0.9832 - val_loss: 0.1720 - val_accuracy: 0.9257\n",
      "Epoch 29/30\n",
      "86/86 [==============================] - ETA: 0s - loss: 0.0276 - accuracy: 0.9902INFO:tensorflow:Assets written to: model-029.model\\assets\n",
      "86/86 [==============================] - 284s 3s/step - loss: 0.0276 - accuracy: 0.9902 - val_loss: 0.1720 - val_accuracy: 0.9417\n",
      "Epoch 30/30\n",
      "86/86 [==============================] - 620s 7s/step - loss: 0.0219 - accuracy: 0.9920 - val_loss: 0.1752 - val_accuracy: 0.9475\n"
     ]
    }
   ],
   "source": [
    "checkpoint = ModelCheckpoint('model-{epoch:03d}.model',monitor='val_loss',verbose=0,save_best_only=True,mode='auto')\n",
    "history=model.fit(train_data,train_target,epochs=30,callbacks=[checkpoint],validation_split=0.2)\n"
   ]
  },
  {
   "cell_type": "code",
   "execution_count": 9,
   "metadata": {},
   "outputs": [
    {
     "data": {
      "image/png": "[encoded data removed]",
      "text/plain": [
       "<Figure size 432x288 with 1 Axes>"
      ]
     },
     "metadata": {
      "needs_background": "light"
     },
     "output_type": "display_data"
    },
    {
     "data": {
      "image/png": "[encoded data removed]",
      "text/plain": [
       "<Figure size 432x288 with 1 Axes>"
      ]
     },
     "metadata": {
      "needs_background": "light"
     },
     "output_type": "display_data"
    },
    {
     "name": "stdout",
     "output_type": "stream",
     "text": [
      "12/12 [==============================] - 11s 883ms/step - loss: 0.2103 - accuracy: 0.9449\n",
      "[0.21032606065273285, 0.9448819160461426]\n"
     ]
    }
   ],
   "source": [
    "from matplotlib import pyplot as plt\n",
    "\n",
    "plt.plot(history.history['loss'],'r',label='training loss')\n",
    "plt.plot(history.history['val_loss'],label='validation loss')\n",
    "plt.xlabel('# epochs')\n",
    "plt.ylabel('loss')\n",
    "plt.legend()\n",
    "plt.show()\n",
    "\n",
    "#%%\n",
    "\n",
    "plt.plot(history.history['accuracy'],'r',label='training accuracy')\n",
    "plt.plot(history.history['val_accuracy'],label='validation accuracy')\n",
    "plt.xlabel('# epochs')\n",
    "plt.ylabel('loss')\n",
    "plt.legend()\n",
    "plt.show()\n",
    "\n",
    "#%%\n",
    "\n",
    "print(model.evaluate(test_data,test_target))\n"
   ]
  },
  {
   "cell_type": "code",
   "execution_count": null,
   "metadata": {},
   "outputs": [],
   "source": []
  }
 ],
 "metadata": {
  "kernelspec": {
   "display_name": "Python 3.8.2 64-bit ('akki': conda)",
   "language": "python",
   "name": "python38264bitakkiconda478d20e621ae418bbf82175f54f1b2ec"
  },
  "language_info": {
   "codemirror_mode": {
    "name": "ipython",
    "version": 3
   },
   "file_extension": ".py",
   "mimetype": "text/x-python",
   "name": "python",
   "nbconvert_exporter": "python",
   "pygments_lexer": "ipython3",
   "version": "3.8.2"
  }
 },
 "nbformat": 4,
 "nbformat_minor": 4
}
